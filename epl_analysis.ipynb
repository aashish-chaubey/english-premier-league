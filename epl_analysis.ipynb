{
 "cells": [
  {
   "cell_type": "code",
   "execution_count": 1,
   "metadata": {},
   "outputs": [
    {
     "name": "stdout",
     "output_type": "stream",
     "text": [
      "Populating the interactive namespace from numpy and matplotlib\n"
     ]
    }
   ],
   "source": [
    "%pylab inline\n",
    "import pandas as pd\n",
    "import numpy as np\n",
    "import matplotlib.pyplot as plt\n",
    "\n",
    "df = pd.read_csv('https://raw.githubusercontent.com/aashish-chaubey/english-premier-league/master/data.csv')"
   ]
  },
  {
   "cell_type": "markdown",
   "metadata": {},
   "source": [
    "## Data Cleaning\n",
    "- Convert the Data in the appropriate standard format <br />\n",
    "  - Fixing the date to the date appropriate date format"
   ]
  },
  {
   "cell_type": "code",
   "execution_count": 2,
   "metadata": {},
   "outputs": [],
   "source": [
    "df['Date'] = pd.to_datetime(df['Date'])"
   ]
  },
  {
   "cell_type": "markdown",
   "metadata": {},
   "source": [
    "## Plotting the data\n",
    "\n",
    "### top winning teams at Home"
   ]
  },
  {
   "cell_type": "code",
   "execution_count": 8,
   "metadata": {},
   "outputs": [],
   "source": [
    "gdf = df.groupby(by=[\"HomeTeam\"])\n",
    "labels = []\n",
    "for team, teamdf in gdf:\n",
    "  if teamdf[(teamdf['HomeTeam'] == team) & ((teamdf['FTR'] == 'H'))].shape[0] > 200:\n",
    "    labels.append(team)"
   ]
  },
  {
   "cell_type": "code",
   "execution_count": 6,
   "metadata": {},
   "outputs": [],
   "source": [
    "wins, loss, draws = [], [], []\n",
    "for team in labels:\n",
    "  wins.append(df[(df['HomeTeam'] == team) & ((df['FTR'] == 'H'))].shape[0])\n",
    "  loss.append(df[(df['HomeTeam'] == team) & ((df['FTR'] == 'A'))].shape[0])\n",
    "  draws.append(df[(df['HomeTeam'] == team) & ((df['FTR'] == 'D'))].shape[0])"
   ]
  },
  {
   "cell_type": "code",
   "execution_count": 7,
   "metadata": {},
   "outputs": [
    {
     "data": {
      "image/png": "[encoded data removed]",
      "text/plain": [
       "<Figure size 432x288 with 1 Axes>"
      ]
     },
     "metadata": {
      "needs_background": "light"
     },
     "output_type": "display_data"
    }
   ],
   "source": [
    "width = 0.35\n",
    "fig, ax = plt.subplots()\n",
    "\n",
    "ax.bar(labels, wins, width, label='Wins')\n",
    "ax.bar(labels, loss, width, label='Loss', bottom=np.array(wins))\n",
    "ax.bar(labels, draws, width, label='Draws', bottom=np.array(wins)+np.array(loss))\n",
    "\n",
    "ax.set_ylabel('Scores')\n",
    "ax.set_title('Scores by Home Team')\n",
    "ax.legend(loc=\"upper right\")\n",
    "\n",
    "plt.show()"
   ]
  },
  {
   "cell_type": "markdown",
   "metadata": {},
   "source": [
    "### Top winning teams overall"
   ]
  },
  {
   "cell_type": "code",
   "execution_count": 38,
   "metadata": {},
   "outputs": [],
   "source": [
    "overall_matches_won = []\n",
    "total_matches_won = 0\n",
    "overall_matches_lost = []\n",
    "total_matches_lost = 0\n",
    "overall_matches_draw = []\n",
    "total_matches_draw = 0\n",
    "\n",
    "all_teams = df['HomeTeam'].unique()\n",
    "for team in all_teams:\n",
    "    selected_team_matches = df[df['HomeTeam'].str.contains(team) | df['AwayTeam'].str.contains(team)]\n",
    "    total_matches_won = selected_team_matches[(selected_team_matches['HomeTeam'] == team) & ((selected_team_matches['FTR'] == 'H'))].shape[0] + selected_team_matches[(selected_team_matches['AwayTeam'] == team) & ((selected_team_matches['FTR'] == 'A'))].shape[0]\n",
    "    overall_matches_won.append(total_matches_won)\n",
    "    total_matches_loss = selected_team_matches[(selected_team_matches['HomeTeam'] == team) & ((selected_team_matches['FTR'] == 'A'))].shape[0] + selected_team_matches[(selected_team_matches['AwayTeam'] == team) & ((selected_team_matches['FTR'] == 'H'))].shape[0]\n",
    "    overall_matches_lost.append(total_matches_loss)\n",
    "    total_matches_draw = selected_team_matches[(selected_team_matches['HomeTeam'] == team) & ((selected_team_matches['FTR'] == 'D'))].shape[0] + selected_team_matches[(selected_team_matches['AwayTeam'] == team) & ((selected_team_matches['FTR'] == 'D'))].shape[0]\n",
    "    overall_matches_draw.append(total_matches_draw)\n",
    "#     print(f\"Team: {team} \\nTotal Wins: {total_matches_won}\\nTotal Lost: {total_matches_lost}\\nTotal Drawn: {total_matches_draw}\\n\")"
   ]
  },
  {
   "cell_type": "code",
   "execution_count": 35,
   "metadata": {},
   "outputs": [],
   "source": [
    "leading_winners = {\n",
    "    'teams': all_teams,\n",
    "    'wins': overall_matches_won,\n",
    "    'loss': overall_matches_lost,\n",
    "    'draw': overall_matches_draw\n",
    "}\n",
    "leading_winners = pd.DataFrame(leading_winners)\n",
    "leading_winners.sort_values(by='wins', ascending=False, inplace=True)"
   ]
  },
  {
   "cell_type": "code",
   "execution_count": 40,
   "metadata": {},
   "outputs": [
    {
     "data": {
      "image/png": "[encoded data removed]",
      "text/plain": [
       "<Figure size 432x288 with 1 Axes>"
      ]
     },
     "metadata": {
      "needs_background": "light"
     },
     "output_type": "display_data"
    }
   ],
   "source": [
    "width = 0.35\n",
    "fig, ax = plt.subplots()\n",
    "\n",
    "labels = list(leading_winners['teams'][:6])\n",
    "wins = list(leading_winners['wins'][:6])\n",
    "loss = list(leading_winners['loss'][:6])\n",
    "draw = list(leading_winners['draw'][:6])\n",
    "\n",
    "ax.bar(labels, wins, width, label='Wins')\n",
    "ax.bar(labels, loss, width, label='Loss', bottom=np.array(wins))\n",
    "ax.bar(labels, draw, width, label='Draws', bottom=np.array(wins)+np.array(loss))\n",
    "\n",
    "ax.set_ylabel('Scores')\n",
    "ax.set_title('Scores by Home Team')\n",
    "ax.legend(loc=\"upper right\")\n",
    "\n",
    "plt.show()"
   ]
  },
  {
   "cell_type": "code",
   "execution_count": null,
   "metadata": {},
   "outputs": [],
   "source": []
  }
 ],
 "metadata": {
  "kernelspec": {
   "display_name": "Python 3",
   "language": "python",
   "name": "python3"
  },
  "language_info": {
   "codemirror_mode": {
    "name": "ipython",
    "version": 3
   },
   "file_extension": ".py",
   "mimetype": "text/x-python",
   "name": "python",
   "nbconvert_exporter": "python",
   "pygments_lexer": "ipython3",
   "version": "3.7.3"
  }
 },
 "nbformat": 4,
 "nbformat_minor": 2
}
